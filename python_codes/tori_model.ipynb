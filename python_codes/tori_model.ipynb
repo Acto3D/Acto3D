{
 "cells": [
  {
   "cell_type": "markdown",
   "metadata": {},
   "source": [
    "## Creation of demo model (tori model)"
   ]
  },
  {
   "cell_type": "markdown",
   "metadata": {},
   "source": [
    "### A model identical to this can be rapidly created via the Acto3D menu bar: File > Demo Model."
   ]
  },
  {
   "cell_type": "code",
   "execution_count": 2,
   "metadata": {},
   "outputs": [],
   "source": [
    "import cv2\n",
    "import numpy as np\n",
    "import os\n",
    "import matplotlib.pyplot as plt"
   ]
  },
  {
   "cell_type": "code",
   "execution_count": 3,
   "metadata": {},
   "outputs": [],
   "source": [
    "imgsize = 500\n",
    "\n",
    "radius1 = 150 # major radius\n",
    "radius2 = 30 # minor radius\n",
    "\n",
    "linewidth = 5\n",
    "\n",
    "edge_value = 240\n",
    "inside_value = 0\n",
    "outside_value = 120"
   ]
  },
  {
   "cell_type": "code",
   "execution_count": 4,
   "metadata": {},
   "outputs": [],
   "source": [
    "def create_mask(radius1, radius2, z):\n",
    "    mask = np.full((imgsize, imgsize), 80, dtype=np.uint8)  \n",
    "    \n",
    "    center_x, center_y = imgsize // 2, imgsize // 2\n",
    "\n",
    "    for y in range(imgsize):\n",
    "        for x in range(imgsize):\n",
    "            # \n",
    "            left1 = (np.sqrt((x - center_x) ** 2 + (z) ** 2) - radius1) ** 2 + (y - center_y) ** 2\n",
    "            left2 = (np.sqrt((y - center_y) ** 2 + (z) ** 2) - radius1) ** 2 + (x - center_x) ** 2\n",
    "            right = radius2 ** 2\n",
    "                \n",
    "            if left1 <= right or left2 <= right:\n",
    "                mask[y, x] = inside_value\n",
    "            elif left1 <= (radius2 + linewidth) ** 2 or left2 <= (radius2 + linewidth) ** 2:\n",
    "                mask[y, x] = edge_value\n",
    "            else:\n",
    "                mask[y, x] = outside_value\n",
    "                \n",
    "\n",
    "    return mask"
   ]
  },
  {
   "cell_type": "code",
   "execution_count": 5,
   "metadata": {},
   "outputs": [
    {
     "data": {
      "image/png": "[encoded data removed]",
      "text/plain": [
       "<Figure size 1440x1440 with 6 Axes>"
      ]
     },
     "metadata": {
      "needs_background": "light"
     },
     "output_type": "display_data"
    }
   ],
   "source": [
    "z_values = range(-200, 200 + 1, 70)  \n",
    "section_masks = [create_mask(radius1, radius2, z) for z in z_values]\n",
    "\n",
    "# Display the masks\n",
    "fig, axes = plt.subplots(1, len(section_masks), figsize=(20, 20))\n",
    "for ax, mask, z_value in zip(axes, section_masks, z_values):\n",
    "    ax.imshow(mask, cmap='gray')\n",
    "    ax.axis('off')\n",
    "    ax.set_title(f\"z = {z_value}\")\n",
    "plt.show()"
   ]
  },
  {
   "cell_type": "code",
   "execution_count": 6,
   "metadata": {},
   "outputs": [
    {
     "name": "stderr",
     "output_type": "stream",
     "text": [
      "Generating tori section: 100%|██████████| 401/401 [06:14<00:00,  1.07it/s]\n"
     ]
    }
   ],
   "source": [
    "import os\n",
    "from tqdm import tqdm\n",
    "\n",
    "os.makedirs('./output_tolus', exist_ok=True)\n",
    "os.makedirs('./output_tolus_blur', exist_ok=True)\n",
    "\n",
    "z_values = range(-radius1 - radius2 - 20, radius1 + radius2 + 21, 1) \n",
    "\n",
    "for index, z_value in enumerate(tqdm(z_values, desc=\"Generating tori section\")):\n",
    "    mask = create_mask(radius1, radius2, z_value)\n",
    "    \n",
    "    # Apply Gaussian blur\n",
    "    blurred_image = cv2.GaussianBlur(mask, (7, 7), 0)\n",
    "    \n",
    "    cv2.imwrite(f'./output_tolus/z{str(index).zfill(4)}.tif', mask)\n",
    "    cv2.imwrite(f'./output_tolus_blur/z{str(index).zfill(4)}.tif', blurred_image)"
   ]
  },
  {
   "cell_type": "markdown",
   "metadata": {},
   "source": [
    "### Calculate the volume of the tori (calculate total black pixels in NOT blured image)"
   ]
  },
  {
   "cell_type": "code",
   "execution_count": 9,
   "metadata": {},
   "outputs": [],
   "source": [
    "def count_pixels_in_images(folder_path, value):\n",
    "    \"\"\"\n",
    "    Count the total number of specific pixels in all images in the specified folder.\n",
    "    \"\"\"\n",
    "    \n",
    "    total_pixels = 0\n",
    "    image_files = [f for f in os.listdir(folder_path) if f.endswith('.tif')]\n",
    "\n",
    "    for image_file in image_files:\n",
    "        image_path = os.path.join(folder_path, image_file)\n",
    "        image = cv2.imread(image_path, cv2.IMREAD_GRAYSCALE)\n",
    "\n",
    "        # Count pi      xels for the value\n",
    "        pixels = np.sum(image == value)\n",
    "        total_pixels += pixels\n",
    "\n",
    "    return total_pixels\n"
   ]
  },
  {
   "cell_type": "code",
   "execution_count": 10,
   "metadata": {},
   "outputs": [
    {
     "data": {
      "text/plain": [
       "5029686"
      ]
     },
     "execution_count": 10,
     "metadata": {},
     "output_type": "execute_result"
    }
   ],
   "source": [
    "\n",
    "# Path to the folder containing the images\n",
    "folder_path = './output_tolus/'\n",
    "\n",
    "# Count the black pixels in the images\n",
    "total_black_pixels = count_pixels_in_images(folder_path, 0)\n",
    "total_black_pixels"
   ]
  }
 ],
 "metadata": {
  "kernelspec": {
   "display_name": "stardist",
   "language": "python",
   "name": "python3"
  },
  "language_info": {
   "codemirror_mode": {
    "name": "ipython",
    "version": 3
   },
   "file_extension": ".py",
   "mimetype": "text/x-python",
   "name": "python",
   "nbconvert_exporter": "python",
   "pygments_lexer": "ipython3",
   "version": "3.8.12"
  }
 },
 "nbformat": 4,
 "nbformat_minor": 2
}
