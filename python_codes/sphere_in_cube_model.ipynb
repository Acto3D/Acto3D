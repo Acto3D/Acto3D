{
 "cells": [
  {
   "cell_type": "markdown",
   "metadata": {},
   "source": [
    "## Creation of demo model (sphere in cube model)"
   ]
  },
  {
   "cell_type": "markdown",
   "metadata": {},
   "source": [
    "### A model identical to this can be rapidly created via the Acto3D menu bar: File > Demo Model."
   ]
  },
  {
   "cell_type": "code",
   "execution_count": 1,
   "metadata": {},
   "outputs": [],
   "source": [
    "import cv2\n",
    "import numpy as np\n",
    "import os\n",
    "import matplotlib.pyplot as plt"
   ]
  },
  {
   "cell_type": "code",
   "execution_count": 2,
   "metadata": {},
   "outputs": [],
   "source": [
    "imgsize = 768\n",
    "\n",
    "cube_size = 700/2\n",
    "sphere_size = 512/2\n",
    "\n",
    "cube_color = 200\n",
    "sphere_color = 128"
   ]
  },
  {
   "cell_type": "code",
   "execution_count": 3,
   "metadata": {},
   "outputs": [],
   "source": [
    "def create_mask(z):\n",
    "    mask = np.full((imgsize, imgsize), 0, dtype=np.uint8)  \n",
    "    \n",
    "    center_x, center_y = imgsize // 2, imgsize // 2\n",
    "\n",
    "    for y in range(imgsize):\n",
    "        for x in range(imgsize):\n",
    "            # \n",
    "            \n",
    "            if((x - center_x) < -4 and (y - center_y) < -4 and np.abs(z) < cube_size):\n",
    "                if( (x - center_x) ** 2 + (y - center_y) ** 2 + z**2 <= sphere_size**2):\n",
    "                    mask[y, x] = sphere_color\n",
    "                elif np.abs(x - center_x) < cube_size and np.abs(y - center_y) < cube_size and z < cube_size:\n",
    "                    mask[y, x] = cube_color\n",
    "                else:\n",
    "                    mask[y, x] = 0\n",
    "                    \n",
    "    return mask"
   ]
  },
  {
   "cell_type": "code",
   "execution_count": 4,
   "metadata": {},
   "outputs": [
    {
     "data": {
      "image/png": "[encoded data removed]",
      "text/plain": [
       "<Figure size 1440x1440 with 4 Axes>"
      ]
     },
     "metadata": {
      "needs_background": "light"
     },
     "output_type": "display_data"
    }
   ],
   "source": [
    "z_values = range(-390, 390, 200) \n",
    "section_masks = [create_mask(z) for z in z_values]\n",
    "\n",
    "# Display the masks\n",
    "fig, axes = plt.subplots(1, len(section_masks), figsize=(20, 20))\n",
    "for ax, mask, z_value in zip(axes, section_masks, z_values):\n",
    "    ax.imshow(mask, cmap='gray')\n",
    "    ax.axis('off')\n",
    "    ax.set_title(f\"z = {z_value}\")\n",
    "plt.show()"
   ]
  },
  {
   "cell_type": "code",
   "execution_count": 5,
   "metadata": {},
   "outputs": [
    {
     "name": "stderr",
     "output_type": "stream",
     "text": [
      "Generating sphere in cube model section: 100%|██████████| 780/780 [06:46<00:00,  1.92it/s]\n"
     ]
    }
   ],
   "source": [
    "import os\n",
    "from tqdm import tqdm\n",
    "\n",
    "os.makedirs('./output_sphere_in_cube_ch1', exist_ok=True)\n",
    "os.makedirs('./output_sphere_in_cube_ch1_blur', exist_ok=True)\n",
    "\n",
    "z_values = range(-390, 390, 1)  \n",
    "\n",
    "for index, z_value in enumerate(tqdm(z_values, desc=\"Generating sphere in cube model section\")):\n",
    "    mask = create_mask(z_value)\n",
    "    \n",
    "    # Apply Gaussian blur\n",
    "    blurred_image = cv2.GaussianBlur(mask, (7, 7), 0)\n",
    "    \n",
    "    cv2.imwrite(f'./output_sphere_in_cube_ch1/z{str(index).zfill(4)}.tif', mask)\n",
    "    cv2.imwrite(f'./output_sphere_in_cube_ch1_blur/z{str(index).zfill(4)}.tif', blurred_image)"
   ]
  },
  {
   "cell_type": "markdown",
   "metadata": {},
   "source": [
    "Please rotate this image by 90 degrees incrementally and composite it using ImageJ / FIJI."
   ]
  }
 ],
 "metadata": {
  "kernelspec": {
   "display_name": "stardist",
   "language": "python",
   "name": "python3"
  },
  "language_info": {
   "codemirror_mode": {
    "name": "ipython",
    "version": 3
   },
   "file_extension": ".py",
   "mimetype": "text/x-python",
   "name": "python",
   "nbconvert_exporter": "python",
   "pygments_lexer": "ipython3",
   "version": "3.8.12"
  }
 },
 "nbformat": 4,
 "nbformat_minor": 2
}
